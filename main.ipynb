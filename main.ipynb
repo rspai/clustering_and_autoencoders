{
 "cells": [
  {
   "cell_type": "code",
   "execution_count": 1,
   "metadata": {},
   "outputs": [
    {
     "name": "stderr",
     "output_type": "stream",
     "text": [
      "C:\\Users\\rasita\\Anaconda3\\lib\\site-packages\\h5py\\__init__.py:36: FutureWarning: Conversion of the second argument of issubdtype from `float` to `np.floating` is deprecated. In future, it will be treated as `np.float64 == np.dtype(float).type`.\n",
      "  from ._conv import register_converters as _register_converters\n",
      "Using TensorFlow backend.\n"
     ]
    }
   ],
   "source": [
    "#task 1 - kmeans clustering\n",
    "\n",
    "import numpy as np\n",
    "from sklearn.cluster import KMeans\n",
    "from sklearn import metrics\n",
    "from sklearn.preprocessing import StandardScaler\n",
    "from sklearn import preprocessing\n",
    "from keras.layers import Input, Dense\n",
    "from keras.models import Model\n",
    "from keras import regularizers\n",
    "from keras.datasets import mnist\n",
    "from keras.callbacks import TensorBoard\n",
    "from sklearn import mixture"
   ]
  },
  {
   "cell_type": "code",
   "execution_count": 2,
   "metadata": {},
   "outputs": [],
   "source": [
    "import util_mnist_reader\n",
    "X_train, Y_train = util_mnist_reader.load_mnist('data/fashion', kind='train')\n",
    "X_test, Y_test = util_mnist_reader.load_mnist('data/fashion', kind='t10k')"
   ]
  },
  {
   "cell_type": "code",
   "execution_count": 3,
   "metadata": {},
   "outputs": [],
   "source": [
    "scaler = StandardScaler()\n",
    "scaler.fit(X_train)\n",
    "X_train = scaler.transform(X_train)\n",
    "scaler.fit(X_test)\n",
    "X_test = scaler.transform(X_test)"
   ]
  },
  {
   "cell_type": "code",
   "execution_count": 4,
   "metadata": {},
   "outputs": [],
   "source": [
    "kmeans = KMeans(n_clusters = np.max(Y_train)+1)\n",
    "kmeans.fit(X_train)\n",
    "y_kmeans = kmeans.predict(X_test)"
   ]
  },
  {
   "cell_type": "code",
   "execution_count": 5,
   "metadata": {},
   "outputs": [
    {
     "name": "stdout",
     "output_type": "stream",
     "text": [
      "Accuracy:  51.71631332799818 %\n"
     ]
    }
   ],
   "source": [
    "acc_task_1 = metrics.completeness_score(Y_test, y_kmeans) * 100\n",
    "print('Accuracy: ', acc_task_1, '%')"
   ]
  },
  {
   "cell_type": "code",
   "execution_count": 11,
   "metadata": {},
   "outputs": [
    {
     "name": "stdout",
     "output_type": "stream",
     "text": [
      "Accuracy: 49.110042605860045%\n"
     ]
    },
    {
     "name": "stderr",
     "output_type": "stream",
     "text": [
      "C:\\Users\\rasita\\Anaconda3\\lib\\site-packages\\sklearn\\metrics\\cluster\\supervised.py:746: FutureWarning: The behavior of AMI will change in version 0.22. To match the behavior of 'v_measure_score', AMI will use average_method='arithmetic' by default.\n",
      "  FutureWarning)\n"
     ]
    }
   ],
   "source": [
    "print('Accuracy: {}%'.format(metrics.adjusted_mutual_info_score(Y_test, y_kmeans) *100))"
   ]
  },
  {
   "cell_type": "code",
   "execution_count": 7,
   "metadata": {},
   "outputs": [
    {
     "name": "stdout",
     "output_type": "stream",
     "text": [
      "[9 4 1 ... 6 1 5]\n"
     ]
    }
   ],
   "source": [
    "from scipy.stats import mode\n",
    "labels = np.zeros_like(y_kmeans)\n",
    "for i in range(10):\n",
    "    mask = (y_kmeans == i)\n",
    "    labels[mask] = mode(Y_test[mask])[0]\n",
    "print(labels)"
   ]
  },
  {
   "cell_type": "code",
   "execution_count": 9,
   "metadata": {},
   "outputs": [
    {
     "name": "stdout",
     "output_type": "stream",
     "text": [
      "Accuracy:  55.75 %\n"
     ]
    }
   ],
   "source": [
    "from sklearn.metrics import accuracy_score\n",
    "acc_2 = metrics.accuracy_score(Y_test, labels) * 100\n",
    "print('Accuracy: ', acc_2, '%')"
   ]
  },
  {
   "cell_type": "code",
   "execution_count": 12,
   "metadata": {},
   "outputs": [],
   "source": [
    "#part 2 autoencoder with kmeans\n",
    "\n",
    "from keras.models import Input, Model\n",
    "from keras.layers import Dense\n",
    "from keras.datasets import fashion_mnist\n",
    "import matplotlib.pyplot as plt\n",
    "import pandas as pd\n",
    "import numpy as np\n",
    "import json\n",
    "import warnings\n",
    "warnings.filterwarnings(\"ignore\")"
   ]
  },
  {
   "cell_type": "code",
   "execution_count": 13,
   "metadata": {},
   "outputs": [],
   "source": [
    "import util_mnist_reader\n",
    "X_train, Y_train = util_mnist_reader.load_mnist('data/fashion', kind='train')\n",
    "X_test, Y_test = util_mnist_reader.load_mnist('data/fashion', kind='t10k')"
   ]
  },
  {
   "cell_type": "code",
   "execution_count": 14,
   "metadata": {},
   "outputs": [
    {
     "name": "stdout",
     "output_type": "stream",
     "text": [
      "(60000, 784)\n",
      "(10000, 784)\n"
     ]
    }
   ],
   "source": [
    "X_train = X_train.astype(\"float32\")/255.0\n",
    "X_test = X_test.astype(\"float32\")/255.0\n",
    "print(X_train.shape)\n",
    "print(X_test.shape)"
   ]
  },
  {
   "cell_type": "code",
   "execution_count": 15,
   "metadata": {},
   "outputs": [
    {
     "data": {
      "image/png": "[encoded data removed]",
      "text/plain": [
       "<Figure size 432x288 with 1 Axes>"
      ]
     },
     "metadata": {},
     "output_type": "display_data"
    },
    {
     "data": {
      "image/png": "[encoded data removed]",
      "text/plain": [
       "<Figure size 432x288 with 1 Axes>"
      ]
     },
     "metadata": {},
     "output_type": "display_data"
    },
    {
     "data": {
      "image/png": "[encoded data removed]",
      "text/plain": [
       "<Figure size 432x288 with 1 Axes>"
      ]
     },
     "metadata": {},
     "output_type": "display_data"
    }
   ],
   "source": [
    "plt.imshow(X_train[4000].reshape(28,28))\n",
    "plt.show()\n",
    "plt.imshow(X_train[1500].reshape(28,28))\n",
    "plt.show()\n",
    "plt.imshow(X_train[150].reshape(28,28))\n",
    "plt.show()"
   ]
  },
  {
   "cell_type": "code",
   "execution_count": 16,
   "metadata": {},
   "outputs": [],
   "source": [
    "input_img= Input(shape=(784,))"
   ]
  },
  {
   "cell_type": "code",
   "execution_count": 17,
   "metadata": {},
   "outputs": [],
   "source": [
    "encoded = Dense(units=32, activation='relu')(input_img)"
   ]
  },
  {
   "cell_type": "code",
   "execution_count": 18,
   "metadata": {},
   "outputs": [],
   "source": [
    "decoded = Dense(units=784, activation='sigmoid')(encoded)"
   ]
  },
  {
   "cell_type": "code",
   "execution_count": 19,
   "metadata": {},
   "outputs": [],
   "source": [
    "autoencoder=Model(input_img, decoded)"
   ]
  },
  {
   "cell_type": "code",
   "execution_count": 20,
   "metadata": {},
   "outputs": [
    {
     "name": "stdout",
     "output_type": "stream",
     "text": [
      "Model: \"model_1\"\n",
      "_________________________________________________________________\n",
      "Layer (type)                 Output Shape              Param #   \n",
      "=================================================================\n",
      "input_1 (InputLayer)         (None, 784)               0         \n",
      "_________________________________________________________________\n",
      "dense_1 (Dense)              (None, 32)                25120     \n",
      "_________________________________________________________________\n",
      "dense_2 (Dense)              (None, 784)               25872     \n",
      "=================================================================\n",
      "Total params: 50,992\n",
      "Trainable params: 50,992\n",
      "Non-trainable params: 0\n",
      "_________________________________________________________________\n"
     ]
    }
   ],
   "source": [
    "autoencoder.summary()"
   ]
  },
  {
   "cell_type": "code",
   "execution_count": 21,
   "metadata": {},
   "outputs": [],
   "source": [
    "autoencoder.compile(optimizer='adadelta', loss='binary_crossentropy', metrics=['accuracy'])"
   ]
  },
  {
   "cell_type": "code",
   "execution_count": 22,
   "metadata": {},
   "outputs": [
    {
     "name": "stdout",
     "output_type": "stream",
     "text": [
      "Train on 60000 samples, validate on 10000 samples\n",
      "Epoch 1/50\n",
      "60000/60000 [==============================] - 4s 74us/step - loss: 0.5260 - accuracy: 0.4486 - val_loss: 0.4619 - val_accuracy: 0.4782\n",
      "Epoch 2/50\n",
      "60000/60000 [==============================] - 4s 58us/step - loss: 0.4336 - accuracy: 0.4865 - val_loss: 0.4107 - val_accuracy: 0.4869\n",
      "Epoch 3/50\n",
      "60000/60000 [==============================] - 3s 56us/step - loss: 0.3989 - accuracy: 0.4907 - val_loss: 0.3914 - val_accuracy: 0.4903\n",
      "Epoch 4/50\n",
      "60000/60000 [==============================] - 3s 54us/step - loss: 0.3821 - accuracy: 0.4935 - val_loss: 0.3760 - val_accuracy: 0.4928\n",
      "Epoch 5/50\n",
      "60000/60000 [==============================] - 3s 54us/step - loss: 0.3679 - accuracy: 0.4959 - val_loss: 0.3633 - val_accuracy: 0.4949\n",
      "Epoch 6/50\n",
      "60000/60000 [==============================] - 3s 52us/step - loss: 0.3564 - accuracy: 0.4979 - val_loss: 0.3532 - val_accuracy: 0.4967\n",
      "Epoch 7/50\n",
      "60000/60000 [==============================] - 3s 56us/step - loss: 0.3472 - accuracy: 0.4996 - val_loss: 0.3450 - val_accuracy: 0.4981\n",
      "Epoch 8/50\n",
      "60000/60000 [==============================] - 3s 50us/step - loss: 0.3397 - accuracy: 0.5011 - val_loss: 0.3383 - val_accuracy: 0.4998\n",
      "Epoch 9/50\n",
      "60000/60000 [==============================] - 4s 59us/step - loss: 0.3336 - accuracy: 0.5023 - val_loss: 0.3329 - val_accuracy: 0.5007\n",
      "Epoch 10/50\n",
      "60000/60000 [==============================] - 4s 62us/step - loss: 0.3288 - accuracy: 0.5030 - val_loss: 0.3286 - val_accuracy: 0.5014\n",
      "Epoch 11/50\n",
      "60000/60000 [==============================] - 4s 60us/step - loss: 0.3249 - accuracy: 0.5036 - val_loss: 0.3252 - val_accuracy: 0.5015\n",
      "Epoch 12/50\n",
      "60000/60000 [==============================] - 4s 59us/step - loss: 0.3218 - accuracy: 0.5040 - val_loss: 0.3223 - val_accuracy: 0.5020\n",
      "Epoch 13/50\n",
      "60000/60000 [==============================] - 3s 52us/step - loss: 0.3192 - accuracy: 0.5044 - val_loss: 0.3200 - val_accuracy: 0.5023\n",
      "Epoch 14/50\n",
      "60000/60000 [==============================] - 3s 48us/step - loss: 0.3170 - accuracy: 0.5047 - val_loss: 0.3180 - val_accuracy: 0.5026\n",
      "Epoch 15/50\n",
      "60000/60000 [==============================] - 3s 52us/step - loss: 0.3152 - accuracy: 0.5049 - val_loss: 0.3163 - val_accuracy: 0.5030\n",
      "Epoch 16/50\n",
      "60000/60000 [==============================] - 3s 51us/step - loss: 0.3136 - accuracy: 0.5051 - val_loss: 0.3149 - val_accuracy: 0.5029\n",
      "Epoch 17/50\n",
      "60000/60000 [==============================] - 3s 57us/step - loss: 0.3122 - accuracy: 0.5053 - val_loss: 0.3135 - val_accuracy: 0.5032\n",
      "Epoch 18/50\n",
      "60000/60000 [==============================] - 3s 58us/step - loss: 0.3110 - accuracy: 0.5055 - val_loss: 0.3124 - val_accuracy: 0.5034\n",
      "Epoch 19/50\n",
      "60000/60000 [==============================] - 3s 53us/step - loss: 0.3099 - accuracy: 0.5056 - val_loss: 0.3114 - val_accuracy: 0.5035\n",
      "Epoch 20/50\n",
      "60000/60000 [==============================] - 4s 60us/step - loss: 0.3089 - accuracy: 0.5058 - val_loss: 0.3104 - val_accuracy: 0.5036\n",
      "Epoch 21/50\n",
      "60000/60000 [==============================] - 3s 55us/step - loss: 0.3080 - accuracy: 0.5059 - val_loss: 0.3096 - val_accuracy: 0.5039\n",
      "Epoch 22/50\n",
      "60000/60000 [==============================] - 3s 48us/step - loss: 0.3071 - accuracy: 0.5060 - val_loss: 0.3087 - val_accuracy: 0.5038\n",
      "Epoch 23/50\n",
      "60000/60000 [==============================] - 4s 61us/step - loss: 0.3063 - accuracy: 0.5061 - val_loss: 0.3079 - val_accuracy: 0.5041\n",
      "Epoch 24/50\n",
      "60000/60000 [==============================] - 4s 64us/step - loss: 0.3055 - accuracy: 0.5062 - val_loss: 0.3072 - val_accuracy: 0.5041\n",
      "Epoch 25/50\n",
      "60000/60000 [==============================] - 3s 50us/step - loss: 0.3048 - accuracy: 0.5063 - val_loss: 0.3065 - val_accuracy: 0.5043\n",
      "Epoch 26/50\n",
      "60000/60000 [==============================] - 3s 50us/step - loss: 0.3041 - accuracy: 0.5064 - val_loss: 0.3059 - val_accuracy: 0.5042\n",
      "Epoch 27/50\n",
      "60000/60000 [==============================] - 3s 53us/step - loss: 0.3035 - accuracy: 0.5065 - val_loss: 0.3052 - val_accuracy: 0.5043\n",
      "Epoch 28/50\n",
      "60000/60000 [==============================] - 3s 53us/step - loss: 0.3029 - accuracy: 0.5066 - val_loss: 0.3046 - val_accuracy: 0.5044\n",
      "Epoch 29/50\n",
      "60000/60000 [==============================] - 3s 53us/step - loss: 0.3023 - accuracy: 0.5066 - val_loss: 0.3041 - val_accuracy: 0.5044\n",
      "Epoch 30/50\n",
      "60000/60000 [==============================] - 3s 55us/step - loss: 0.3018 - accuracy: 0.5067 - val_loss: 0.3036 - val_accuracy: 0.5046\n",
      "Epoch 31/50\n",
      "60000/60000 [==============================] - 3s 50us/step - loss: 0.3013 - accuracy: 0.5068 - val_loss: 0.3031 - val_accuracy: 0.5047\n",
      "Epoch 32/50\n",
      "60000/60000 [==============================] - 3s 51us/step - loss: 0.3008 - accuracy: 0.5068 - val_loss: 0.3026 - val_accuracy: 0.5046\n",
      "Epoch 33/50\n",
      "60000/60000 [==============================] - 4s 61us/step - loss: 0.3003 - accuracy: 0.5069 - val_loss: 0.3021 - val_accuracy: 0.5048\n",
      "Epoch 34/50\n",
      "60000/60000 [==============================] - 3s 58us/step - loss: 0.2999 - accuracy: 0.5069 - val_loss: 0.3017 - val_accuracy: 0.5047\n",
      "Epoch 35/50\n",
      "60000/60000 [==============================] - 3s 53us/step - loss: 0.2995 - accuracy: 0.5070 - val_loss: 0.3013 - val_accuracy: 0.5048\n",
      "Epoch 36/50\n",
      "60000/60000 [==============================] - 3s 53us/step - loss: 0.2990 - accuracy: 0.5070 - val_loss: 0.3009 - val_accuracy: 0.5049\n",
      "Epoch 37/50\n",
      "60000/60000 [==============================] - 3s 52us/step - loss: 0.2987 - accuracy: 0.5071 - val_loss: 0.3005 - val_accuracy: 0.5049\n",
      "Epoch 38/50\n",
      "60000/60000 [==============================] - 3s 54us/step - loss: 0.2983 - accuracy: 0.5071 - val_loss: 0.3002 - val_accuracy: 0.5050\n",
      "Epoch 39/50\n",
      "60000/60000 [==============================] - 3s 57us/step - loss: 0.2979 - accuracy: 0.5072 - val_loss: 0.2998 - val_accuracy: 0.5050\n",
      "Epoch 40/50\n",
      "60000/60000 [==============================] - 3s 53us/step - loss: 0.2976 - accuracy: 0.5072 - val_loss: 0.2995 - val_accuracy: 0.5050\n",
      "Epoch 41/50\n",
      "60000/60000 [==============================] - 3s 57us/step - loss: 0.2972 - accuracy: 0.5073 - val_loss: 0.2991 - val_accuracy: 0.5051\n",
      "Epoch 42/50\n",
      "60000/60000 [==============================] - 3s 56us/step - loss: 0.2969 - accuracy: 0.5073 - val_loss: 0.2989 - val_accuracy: 0.5051\n",
      "Epoch 43/50\n",
      "60000/60000 [==============================] - 3s 55us/step - loss: 0.2966 - accuracy: 0.5073 - val_loss: 0.2986 - val_accuracy: 0.5051\n",
      "Epoch 44/50\n",
      "60000/60000 [==============================] - 3s 55us/step - loss: 0.2963 - accuracy: 0.5074 - val_loss: 0.2982 - val_accuracy: 0.5052\n",
      "Epoch 45/50\n",
      "60000/60000 [==============================] - 4s 58us/step - loss: 0.2960 - accuracy: 0.5074 - val_loss: 0.2980 - val_accuracy: 0.5053\n",
      "Epoch 46/50\n",
      "60000/60000 [==============================] - 3s 57us/step - loss: 0.2957 - accuracy: 0.5074 - val_loss: 0.2977 - val_accuracy: 0.5052\n",
      "Epoch 47/50\n",
      "60000/60000 [==============================] - 3s 56us/step - loss: 0.2954 - accuracy: 0.5075 - val_loss: 0.2974 - val_accuracy: 0.5054\n",
      "Epoch 48/50\n",
      "60000/60000 [==============================] - 3s 57us/step - loss: 0.2952 - accuracy: 0.5075 - val_loss: 0.2972 - val_accuracy: 0.5054\n",
      "Epoch 49/50\n",
      "60000/60000 [==============================] - 3s 54us/step - loss: 0.2949 - accuracy: 0.5075 - val_loss: 0.2969 - val_accuracy: 0.5054\n",
      "Epoch 50/50\n",
      "60000/60000 [==============================] - 3s 54us/step - loss: 0.2947 - accuracy: 0.5076 - val_loss: 0.2966 - val_accuracy: 0.5054\n"
     ]
    }
   ],
   "source": [
    "history = autoencoder.fit(X_train, X_train,\n",
    "                epochs=50,\n",
    "                batch_size=256,\n",
    "                shuffle=True,\n",
    "                validation_data=(X_test, X_test))"
   ]
  },
  {
   "cell_type": "code",
   "execution_count": 23,
   "metadata": {},
   "outputs": [
    {
     "data": {
      "image/png": "[encoded data removed]",
      "text/plain": [
       "<Figure size 432x288 with 1 Axes>"
      ]
     },
     "metadata": {},
     "output_type": "display_data"
    }
   ],
   "source": [
    "plt.plot(history.history[\"loss\"], label = \"Train Loss\")\n",
    "plt.plot(history.history[\"val_loss\"], label = \"Validation Loss\")\n",
    "plt.xlabel('Iterations', fontweight = \"bold\", fontsize = 12)\n",
    "plt.ylabel('Loss', fontweight = \"bold\", fontsize = 12)\n",
    "plt.title(\"Cost Function\", fontweight = \"bold\", fontsize = 16)\n",
    "plt.legend()\n",
    "plt.show()"
   ]
  },
  {
   "cell_type": "code",
   "execution_count": 24,
   "metadata": {},
   "outputs": [],
   "source": [
    "encoder = Model(input_img, encoded)\n",
    "encoded_imgs = encoder.predict(X_test)\n",
    "predicted = autoencoder.predict(X_test)"
   ]
  },
  {
   "cell_type": "code",
   "execution_count": 25,
   "metadata": {},
   "outputs": [
    {
     "data": {
      "image/png": "[encoded data removed]",
      "text/plain": [
       "<Figure size 2880x288 with 30 Axes>"
      ]
     },
     "metadata": {},
     "output_type": "display_data"
    }
   ],
   "source": [
    "plt.figure(figsize=(40, 4))\n",
    "for i in range(10):\n",
    "    # display original\n",
    "    ax = plt.subplot(3, 20, i + 1)\n",
    "    plt.imshow(X_test[i].reshape(28, 28))\n",
    "    plt.gray()\n",
    "    ax.get_xaxis().set_visible(False)\n",
    "    ax.get_yaxis().set_visible(False)\n",
    "    \n",
    "    # display encoded image\n",
    "    ax = plt.subplot(3, 20, i + 1 + 20)\n",
    "    plt.imshow(encoded_imgs[i].reshape(8,4))\n",
    "    plt.gray()\n",
    "    ax.get_xaxis().set_visible(False)\n",
    "    ax.get_yaxis().set_visible(False)\n",
    "    # display reconstruction\n",
    "    ax = plt.subplot(3, 20, 2*20 +i+ 1)\n",
    "    plt.imshow(predicted[i].reshape(28, 28))\n",
    "    plt.gray()\n",
    "    ax.get_xaxis().set_visible(False)\n",
    "    ax.get_yaxis().set_visible(False) \n",
    "    \n",
    "plt.show()"
   ]
  },
  {
   "cell_type": "code",
   "execution_count": 26,
   "metadata": {},
   "outputs": [],
   "source": [
    "from sklearn.cluster import KMeans\n",
    "clf = KMeans(n_clusters = 10, random_state=4)\n",
    "clf.fit(X_train)\n",
    "y_pred = clf.predict(X_test)"
   ]
  },
  {
   "cell_type": "code",
   "execution_count": 27,
   "metadata": {},
   "outputs": [
    {
     "name": "stdout",
     "output_type": "stream",
     "text": [
      "Accuracy: 50.00293408678331%\n"
     ]
    }
   ],
   "source": [
    "print('Accuracy: {}%'.format((metrics.adjusted_mutual_info_score(Y_test, y_pred))*100))"
   ]
  },
  {
   "cell_type": "code",
   "execution_count": 28,
   "metadata": {},
   "outputs": [
    {
     "name": "stdout",
     "output_type": "stream",
     "text": [
      "[[  6  31 585  96  34   0   1 242   0   5]\n",
      " [  0 891  50  22   9   0   0  28   0   0]\n",
      " [  4   4  20  65 565   0   0 338   0   4]\n",
      " [  2 504 277  99  10   0   0 105   0   3]\n",
      " [  4  27 134  42 625   0   0 163   0   5]\n",
      " [  0   0   0 646   0  73 230   6  45   0]\n",
      " [ 15  12 189 121 308   0   0 355   0   0]\n",
      " [  0   0   0  59   0 152 787   0   2   0]\n",
      " [355   7   3  87  60  10  39  30   1 408]\n",
      " [  0   0   0  29   0 519  23   4 423   2]]\n"
     ]
    }
   ],
   "source": [
    "from sklearn.metrics import confusion_matrix\n",
    "cm = confusion_matrix(Y_test, y_pred)\n",
    "print(cm)"
   ]
  },
  {
   "cell_type": "code",
   "execution_count": 29,
   "metadata": {},
   "outputs": [
    {
     "name": "stdout",
     "output_type": "stream",
     "text": [
      "Accuracy:  52.41242574402355 %\n"
     ]
    }
   ],
   "source": [
    "from sklearn import metrics\n",
    "acc_task_2 = metrics.completeness_score(Y_test, y_pred) * 100\n",
    "print('Accuracy: ', acc_task_2, '%')"
   ]
  },
  {
   "cell_type": "code",
   "execution_count": 30,
   "metadata": {},
   "outputs": [],
   "source": [
    "#task 3 - Autoencoder with GMM\n",
    "\n",
    "from keras.layers import Input, Dense\n",
    "from keras.models import Model\n",
    "from keras import regularizers"
   ]
  },
  {
   "cell_type": "code",
   "execution_count": 31,
   "metadata": {},
   "outputs": [],
   "source": [
    "from matplotlib import pyplot as plt\n",
    "import numpy as np\n",
    "import gzip\n",
    "%matplotlib inline"
   ]
  },
  {
   "cell_type": "code",
   "execution_count": 32,
   "metadata": {},
   "outputs": [],
   "source": [
    "from keras.datasets import mnist\n",
    "import pandas as pd\n",
    "from sklearn import mixture\n",
    "from keras.callbacks import TensorBoard"
   ]
  },
  {
   "cell_type": "code",
   "execution_count": 33,
   "metadata": {},
   "outputs": [],
   "source": [
    "import util_mnist_reader\n",
    "X_train, Y_train = util_mnist_reader.load_mnist('data/fashion', kind='train')\n",
    "X_test, Y_test = util_mnist_reader.load_mnist('data/fashion', kind='t10k')"
   ]
  },
  {
   "cell_type": "code",
   "execution_count": 34,
   "metadata": {},
   "outputs": [],
   "source": [
    "encoding_dim = 6\n",
    "input_img = Input(shape = (784,))"
   ]
  },
  {
   "cell_type": "code",
   "execution_count": 35,
   "metadata": {},
   "outputs": [],
   "source": [
    "d = Dense(256, activation = 'selu')(input_img)\n",
    "d = Dense(128, activation = 'selu')(d)\n",
    "encoded = Dense(encoding_dim, activation = 'selu', kernel_regularizer = regularizers.l2(0.01))(d)"
   ]
  },
  {
   "cell_type": "code",
   "execution_count": 36,
   "metadata": {},
   "outputs": [],
   "source": [
    "d = Dense(128, activation = 'selu')(encoded)\n",
    "d = Dense(256, activation = 'selu')(d)\n",
    "decoded = Dense(784, activation = 'sigmoid')(d)"
   ]
  },
  {
   "cell_type": "code",
   "execution_count": 37,
   "metadata": {},
   "outputs": [],
   "source": [
    "autoencoder = Model(input_img, decoded)"
   ]
  },
  {
   "cell_type": "code",
   "execution_count": 38,
   "metadata": {},
   "outputs": [],
   "source": [
    "encoder = Model(input_img, encoded)\n",
    "encoded_input = Input(shape = (encoding_dim,))"
   ]
  },
  {
   "cell_type": "code",
   "execution_count": 39,
   "metadata": {},
   "outputs": [],
   "source": [
    "deco = autoencoder.layers[-3](encoded_input)\n",
    "deco = autoencoder.layers[-2](deco)\n",
    "deco = autoencoder.layers[-1](deco)"
   ]
  },
  {
   "cell_type": "code",
   "execution_count": 40,
   "metadata": {},
   "outputs": [],
   "source": [
    "decoder = Model(encoded_input, deco)"
   ]
  },
  {
   "cell_type": "code",
   "execution_count": 52,
   "metadata": {},
   "outputs": [
    {
     "name": "stdout",
     "output_type": "stream",
     "text": [
      "Model: \"model_3\"\n",
      "_________________________________________________________________\n",
      "Layer (type)                 Output Shape              Param #   \n",
      "=================================================================\n",
      "input_2 (InputLayer)         (None, 784)               0         \n",
      "_________________________________________________________________\n",
      "dense_3 (Dense)              (None, 256)               200960    \n",
      "_________________________________________________________________\n",
      "dense_4 (Dense)              (None, 128)               32896     \n",
      "_________________________________________________________________\n",
      "dense_5 (Dense)              (None, 6)                 774       \n",
      "_________________________________________________________________\n",
      "dense_6 (Dense)              (None, 128)               896       \n",
      "_________________________________________________________________\n",
      "dense_7 (Dense)              (None, 256)               33024     \n",
      "_________________________________________________________________\n",
      "dense_8 (Dense)              (None, 784)               201488    \n",
      "=================================================================\n",
      "Total params: 470,038\n",
      "Trainable params: 470,038\n",
      "Non-trainable params: 0\n",
      "_________________________________________________________________\n"
     ]
    }
   ],
   "source": [
    "autoencoder.summary()"
   ]
  },
  {
   "cell_type": "code",
   "execution_count": 41,
   "metadata": {},
   "outputs": [],
   "source": [
    "autoencoder.compile(optimizer = 'adam', loss = 'binary_crossentropy', metrics = ['accuracy'])"
   ]
  },
  {
   "cell_type": "code",
   "execution_count": 42,
   "metadata": {},
   "outputs": [
    {
     "name": "stdout",
     "output_type": "stream",
     "text": [
      "(60000, 784)\n",
      "(10000, 784)\n"
     ]
    }
   ],
   "source": [
    "X_train = X_train.astype(\"float32\")/255.0\n",
    "X_test = X_test.astype(\"float32\")/255.0\n",
    "X_train = X_train.reshape((len(X_train), np.prod(X_train.shape[1:])))\n",
    "X_test = X_test.reshape((len(X_test), np.prod(X_test.shape[1:])))\n",
    "print(X_train.shape)\n",
    "print(X_test.shape)"
   ]
  },
  {
   "cell_type": "code",
   "execution_count": 43,
   "metadata": {},
   "outputs": [
    {
     "name": "stdout",
     "output_type": "stream",
     "text": [
      "Train on 60000 samples, validate on 10000 samples\n",
      "Epoch 1/50\n",
      "60000/60000 [==============================] - 8s 133us/step - loss: 0.5991 - accuracy: 0.4571 - val_loss: 0.4925 - val_accuracy: 0.4901\n",
      "Epoch 2/50\n",
      "60000/60000 [==============================] - 7s 121us/step - loss: 0.4546 - accuracy: 0.4938 - val_loss: 0.4237 - val_accuracy: 0.4915\n",
      "Epoch 3/50\n",
      "60000/60000 [==============================] - 7s 118us/step - loss: 0.4037 - accuracy: 0.4957 - val_loss: 0.3876 - val_accuracy: 0.4943\n",
      "Epoch 4/50\n",
      "60000/60000 [==============================] - 7s 117us/step - loss: 0.3765 - accuracy: 0.4975 - val_loss: 0.3688 - val_accuracy: 0.4952\n",
      "Epoch 5/50\n",
      "60000/60000 [==============================] - 7s 119us/step - loss: 0.3606 - accuracy: 0.4983 - val_loss: 0.3550 - val_accuracy: 0.4959\n",
      "Epoch 6/50\n",
      "60000/60000 [==============================] - 7s 117us/step - loss: 0.3482 - accuracy: 0.4991 - val_loss: 0.3450 - val_accuracy: 0.4981\n",
      "Epoch 7/50\n",
      "60000/60000 [==============================] - 7s 117us/step - loss: 0.3402 - accuracy: 0.4995 - val_loss: 0.3385 - val_accuracy: 0.4980\n",
      "Epoch 8/50\n",
      "60000/60000 [==============================] - 7s 116us/step - loss: 0.3346 - accuracy: 0.4999 - val_loss: 0.3341 - val_accuracy: 0.4987\n",
      "Epoch 9/50\n",
      "60000/60000 [==============================] - 7s 117us/step - loss: 0.3306 - accuracy: 0.5003 - val_loss: 0.3303 - val_accuracy: 0.4984\n",
      "Epoch 10/50\n",
      "60000/60000 [==============================] - 7s 116us/step - loss: 0.3269 - accuracy: 0.5009 - val_loss: 0.3271 - val_accuracy: 0.4994\n",
      "Epoch 11/50\n",
      "60000/60000 [==============================] - 7s 117us/step - loss: 0.3240 - accuracy: 0.5016 - val_loss: 0.3244 - val_accuracy: 0.4996\n",
      "Epoch 12/50\n",
      "60000/60000 [==============================] - 7s 117us/step - loss: 0.3216 - accuracy: 0.5022 - val_loss: 0.3222 - val_accuracy: 0.5000\n",
      "Epoch 13/50\n",
      "60000/60000 [==============================] - 7s 117us/step - loss: 0.3195 - accuracy: 0.5025 - val_loss: 0.3209 - val_accuracy: 0.5011\n",
      "Epoch 14/50\n",
      "60000/60000 [==============================] - 7s 117us/step - loss: 0.3178 - accuracy: 0.5028 - val_loss: 0.3191 - val_accuracy: 0.5001\n",
      "Epoch 15/50\n",
      "60000/60000 [==============================] - 7s 118us/step - loss: 0.3159 - accuracy: 0.5031 - val_loss: 0.3170 - val_accuracy: 0.5011\n",
      "Epoch 16/50\n",
      "60000/60000 [==============================] - 7s 123us/step - loss: 0.3145 - accuracy: 0.5034 - val_loss: 0.3157 - val_accuracy: 0.5014\n",
      "Epoch 17/50\n",
      "60000/60000 [==============================] - 7s 121us/step - loss: 0.3131 - accuracy: 0.5037 - val_loss: 0.3149 - val_accuracy: 0.5021\n",
      "Epoch 18/50\n",
      "60000/60000 [==============================] - 7s 120us/step - loss: 0.3121 - accuracy: 0.5038 - val_loss: 0.3140 - val_accuracy: 0.5011\n",
      "Epoch 19/50\n",
      "60000/60000 [==============================] - 7s 122us/step - loss: 0.3113 - accuracy: 0.5039 - val_loss: 0.3129 - val_accuracy: 0.5017\n",
      "Epoch 20/50\n",
      "60000/60000 [==============================] - 7s 123us/step - loss: 0.3103 - accuracy: 0.5041 - val_loss: 0.3120 - val_accuracy: 0.5017\n",
      "Epoch 21/50\n",
      "60000/60000 [==============================] - 7s 117us/step - loss: 0.3094 - accuracy: 0.5042 - val_loss: 0.3116 - val_accuracy: 0.5016\n",
      "Epoch 22/50\n",
      "60000/60000 [==============================] - 7s 117us/step - loss: 0.3091 - accuracy: 0.5042 - val_loss: 0.3106 - val_accuracy: 0.5022\n",
      "Epoch 23/50\n",
      "60000/60000 [==============================] - 7s 121us/step - loss: 0.3081 - accuracy: 0.5043 - val_loss: 0.3099 - val_accuracy: 0.5021\n",
      "Epoch 24/50\n",
      "60000/60000 [==============================] - 7s 117us/step - loss: 0.3078 - accuracy: 0.5044 - val_loss: 0.3094 - val_accuracy: 0.5022\n",
      "Epoch 25/50\n",
      "60000/60000 [==============================] - 7s 117us/step - loss: 0.3070 - accuracy: 0.5045 - val_loss: 0.3090 - val_accuracy: 0.5021\n",
      "Epoch 26/50\n",
      "60000/60000 [==============================] - 7s 117us/step - loss: 0.3065 - accuracy: 0.5045 - val_loss: 0.3084 - val_accuracy: 0.5020\n",
      "Epoch 27/50\n",
      "60000/60000 [==============================] - 7s 117us/step - loss: 0.3061 - accuracy: 0.5045 - val_loss: 0.3084 - val_accuracy: 0.5025\n",
      "Epoch 28/50\n",
      "60000/60000 [==============================] - 7s 117us/step - loss: 0.3057 - accuracy: 0.5046 - val_loss: 0.3078 - val_accuracy: 0.5030\n",
      "Epoch 29/50\n",
      "60000/60000 [==============================] - 7s 118us/step - loss: 0.3051 - accuracy: 0.5047 - val_loss: 0.3069 - val_accuracy: 0.5025\n",
      "Epoch 30/50\n",
      "60000/60000 [==============================] - 7s 117us/step - loss: 0.3047 - accuracy: 0.5047 - val_loss: 0.3065 - val_accuracy: 0.5024\n",
      "Epoch 31/50\n",
      "60000/60000 [==============================] - 7s 119us/step - loss: 0.3042 - accuracy: 0.5047 - val_loss: 0.3061 - val_accuracy: 0.5025\n",
      "Epoch 32/50\n",
      "60000/60000 [==============================] - 7s 117us/step - loss: 0.3041 - accuracy: 0.5048 - val_loss: 0.3057 - val_accuracy: 0.5025\n",
      "Epoch 33/50\n",
      "60000/60000 [==============================] - 7s 117us/step - loss: 0.3034 - accuracy: 0.5048 - val_loss: 0.3053 - val_accuracy: 0.5025\n",
      "Epoch 34/50\n",
      "60000/60000 [==============================] - 7s 118us/step - loss: 0.3031 - accuracy: 0.5049 - val_loss: 0.3049 - val_accuracy: 0.5028\n",
      "Epoch 35/50\n",
      "60000/60000 [==============================] - 7s 118us/step - loss: 0.3027 - accuracy: 0.5049 - val_loss: 0.3045 - val_accuracy: 0.5026\n",
      "Epoch 36/50\n",
      "60000/60000 [==============================] - 7s 125us/step - loss: 0.3021 - accuracy: 0.5050 - val_loss: 0.3041 - val_accuracy: 0.5029\n",
      "Epoch 37/50\n",
      "60000/60000 [==============================] - 7s 120us/step - loss: 0.3019 - accuracy: 0.5050 - val_loss: 0.3044 - val_accuracy: 0.5032\n",
      "Epoch 38/50\n",
      "60000/60000 [==============================] - 7s 117us/step - loss: 0.3016 - accuracy: 0.5051 - val_loss: 0.3035 - val_accuracy: 0.5030\n",
      "Epoch 39/50\n",
      "60000/60000 [==============================] - 7s 121us/step - loss: 0.3010 - accuracy: 0.5052 - val_loss: 0.3030 - val_accuracy: 0.5029\n",
      "Epoch 40/50\n",
      "60000/60000 [==============================] - 7s 123us/step - loss: 0.3007 - accuracy: 0.5052 - val_loss: 0.3027 - val_accuracy: 0.5030\n",
      "Epoch 41/50\n",
      "60000/60000 [==============================] - 7s 124us/step - loss: 0.3004 - accuracy: 0.5053 - val_loss: 0.3028 - val_accuracy: 0.5034\n",
      "Epoch 42/50\n",
      "60000/60000 [==============================] - 8s 130us/step - loss: 0.3002 - accuracy: 0.5053 - val_loss: 0.3020 - val_accuracy: 0.5029\n",
      "Epoch 43/50\n",
      "60000/60000 [==============================] - 8s 134us/step - loss: 0.2997 - accuracy: 0.5053 - val_loss: 0.3017 - val_accuracy: 0.5032\n",
      "Epoch 44/50\n",
      "60000/60000 [==============================] - 8s 131us/step - loss: 0.2994 - accuracy: 0.5054 - val_loss: 0.3013 - val_accuracy: 0.5034\n",
      "Epoch 45/50\n",
      "60000/60000 [==============================] - 7s 120us/step - loss: 0.2992 - accuracy: 0.5054 - val_loss: 0.3018 - val_accuracy: 0.5027\n",
      "Epoch 46/50\n",
      "60000/60000 [==============================] - 8s 127us/step - loss: 0.2990 - accuracy: 0.5054 - val_loss: 0.3008 - val_accuracy: 0.5034\n",
      "Epoch 47/50\n",
      "60000/60000 [==============================] - 7s 125us/step - loss: 0.2985 - accuracy: 0.5055 - val_loss: 0.3005 - val_accuracy: 0.5033\n",
      "Epoch 48/50\n",
      "60000/60000 [==============================] - 7s 124us/step - loss: 0.2982 - accuracy: 0.5055 - val_loss: 0.3003 - val_accuracy: 0.5034\n",
      "Epoch 49/50\n",
      "60000/60000 [==============================] - 7s 115us/step - loss: 0.2980 - accuracy: 0.5055 - val_loss: 0.3001 - val_accuracy: 0.5035\n",
      "Epoch 50/50\n",
      "60000/60000 [==============================] - 7s 115us/step - loss: 0.2978 - accuracy: 0.5056 - val_loss: 0.2999 - val_accuracy: 0.5036\n"
     ]
    }
   ],
   "source": [
    "history = autoencoder.fit(X_train, X_train, \n",
    "                           epochs = 50,\n",
    "                           batch_size = 2056,\n",
    "                           shuffle = True,\n",
    "                           validation_data = (X_test, X_test))"
   ]
  },
  {
   "cell_type": "code",
   "execution_count": 44,
   "metadata": {},
   "outputs": [
    {
     "data": {
      "image/png": "[encoded data removed]",
      "text/plain": [
       "<Figure size 432x288 with 1 Axes>"
      ]
     },
     "metadata": {},
     "output_type": "display_data"
    }
   ],
   "source": [
    "plt.plot(history.history[\"loss\"], label=\"Train Loss\")\n",
    "plt.plot(history.history[\"val_loss\"], label=\"Validation Loss\")\n",
    "plt.xlabel('Iterations', fontweight = \"bold\", fontsize = 12)\n",
    "plt.ylabel('Loss', fontweight = \"bold\", fontsize = 12)\n",
    "plt.title(\"Cost Function\", fontweight = \"bold\", fontsize = 16)\n",
    "plt.legend()\n",
    "plt.show()"
   ]
  },
  {
   "cell_type": "code",
   "execution_count": 45,
   "metadata": {},
   "outputs": [],
   "source": [
    "encoded_imgs = encoder.predict(X_test)"
   ]
  },
  {
   "cell_type": "code",
   "execution_count": 46,
   "metadata": {},
   "outputs": [],
   "source": [
    "clf = mixture.GaussianMixture(n_components = 10)"
   ]
  },
  {
   "cell_type": "code",
   "execution_count": 47,
   "metadata": {},
   "outputs": [
    {
     "data": {
      "text/plain": [
       "GaussianMixture(covariance_type='full', init_params='kmeans', max_iter=100,\n",
       "                means_init=None, n_components=10, n_init=1,\n",
       "                precisions_init=None, random_state=None, reg_covar=1e-06,\n",
       "                tol=0.001, verbose=0, verbose_interval=10, warm_start=False,\n",
       "                weights_init=None)"
      ]
     },
     "execution_count": 47,
     "metadata": {},
     "output_type": "execute_result"
    }
   ],
   "source": [
    "clf.fit(encoded_imgs)"
   ]
  },
  {
   "cell_type": "code",
   "execution_count": 48,
   "metadata": {},
   "outputs": [],
   "source": [
    "clustered_training_set = clf.fit_predict(encoded_imgs)"
   ]
  },
  {
   "cell_type": "code",
   "execution_count": 49,
   "metadata": {},
   "outputs": [
    {
     "name": "stdout",
     "output_type": "stream",
     "text": [
      "[[  0  95   6  12   0   0 750   4  55  78]\n",
      " [  0  72   0   7   0 834   1   1  10  75]\n",
      " [  0   3   4 512   0   0   4   3 441  33]\n",
      " [  0 549   0   1   0   2  27   3  34 384]\n",
      " [  0   5   2 610   0   0   2   4 164 213]\n",
      " [367   4 155   0 473   0   1   0   0   0]\n",
      " [  0  47  10 237   0   0 199   7 384 116]\n",
      " [  3   0 175   0 822   0   0   0   0   0]\n",
      " [  1  45 401  33   5   0   1 473  35   6]\n",
      " [547   1 431   1  18   0   0   0   1   1]]\n"
     ]
    }
   ],
   "source": [
    "from sklearn.metrics import confusion_matrix\n",
    "cm = confusion_matrix(Y_test, clustered_training_set)\n",
    "print(cm)"
   ]
  },
  {
   "cell_type": "code",
   "execution_count": 50,
   "metadata": {},
   "outputs": [
    {
     "name": "stdout",
     "output_type": "stream",
     "text": [
      "Accuracy:  58.75057100425949 %\n"
     ]
    }
   ],
   "source": [
    "from sklearn import metrics\n",
    "acc_task_3 = metrics.completeness_score(Y_test, clustered_training_set) * 100\n",
    "print('Accuracy: ', acc_task_3, '%')"
   ]
  },
  {
   "cell_type": "code",
   "execution_count": 51,
   "metadata": {},
   "outputs": [
    {
     "name": "stdout",
     "output_type": "stream",
     "text": [
      "Accuracy: 57.80573560596108%\n"
     ]
    }
   ],
   "source": [
    "print('Accuracy: {}%'.format((metrics.adjusted_mutual_info_score(Y_test, clustered_training_set))*100))"
   ]
  },
  {
   "cell_type": "code",
   "execution_count": null,
   "metadata": {},
   "outputs": [],
   "source": []
  }
 ],
 "metadata": {
  "kernelspec": {
   "display_name": "Python 3",
   "language": "python",
   "name": "python3"
  },
  "language_info": {
   "codemirror_mode": {
    "name": "ipython",
    "version": 3
   },
   "file_extension": ".py",
   "mimetype": "text/x-python",
   "name": "python",
   "nbconvert_exporter": "python",
   "pygments_lexer": "ipython3",
   "version": "3.6.5"
  }
 },
 "nbformat": 4,
 "nbformat_minor": 2
}
